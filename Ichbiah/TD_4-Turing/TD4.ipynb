{
 "cells": [
  {
   "cell_type": "markdown",
   "metadata": {},
   "source": [
    "# Exercise session nº 4\n",
    "---\n",
    "# Orientation of Turing Patterns by Morphogen Gradients and Tissue Anisotropies\n",
    "\n",
    "__*Sacha Ichbiah, 14/02/22, ENS Paris*__\n",
    "\n",
    "This subject is extracted from : \n",
    "> Tom W. Hiscock and Sean G. Megason., *Orientation of Turing-like Patterns by Morphogen Gradients and Tissue Anisotropies*, Cell Systems, 2015.\n",
    "> https://doi.org/10.1016/j.cels.2015.12.001\n",
    "\n",
    "> https://ipython-books.github.io/124-simulating-a-partial-differential-equation-reaction-diffusion-systems-and-turing-patterns/\n",
    "\n",
    "__Periodic patterns__ are found in a wide variety of different organisms, forming across a large range of time and length scales. A number of different models have been proposed to explain the formation of these periodic patterns, most notably Turing’s __reaction-diffusion__ model in which periodicity is generated at the molecular scale. The canonical reaction-diffusion model involves two diffusing molecules: a __rapidly diffusing inhibitor__ molecule and a __slowly diffusing activator__ molecule. Provided that the activator stimulates production of both itself and its inhibitor sufficiently strongly, and that the inhibitor diffuses sufficiently more rapidly than the activator, periodic patterns can spontaneously emerge from an initially homogeneous pattern (termed a __Turing instability__).\n",
    "\n",
    "![alt text](Images/Zebrafish.png \"Title\")\n",
    "\n",
    "The property that forms the focus of this work is __pattern orientation__. Stripes in animal pigment patterns often have a __stereotyped__ direction; e.g., wild-type zebrafish have __stripes parallel__ to their long axis during normal development. However, during aberrant patterning, for example, when the pattern regenerates after damage, or when the pattern proceeds in the absence of some organizing signal, the tight regulation of pattern orientaion is impaired, and we can observe __labyrinthine stripes__ on his body. This phenotype disruption shows that the orientation of the pattern requires to be __regulated__.\n",
    "\n",
    "This study is based on a single variable description of a generic Turing instability: the __Swift-Hohenberg__ equation. With this equation, the authors find three different ways to orient reliably the stripes of the pattern. During this session, we will study three of them : the morphogen gradient, the tissue anisotropy, and growth. \n",
    "\n",
    "---"
   ]
  },
  {
   "cell_type": "markdown",
   "metadata": {},
   "source": [
    "# Part 1 - Unregulated Turing pattern\n",
    "\n",
    "### Swift-Hohenberg equation\n",
    "\n",
    "The Swift-Hohenberg equation can be written in the following way : \n",
    "\n",
    "$\\begin{equation}\n",
    "\\dfrac{\\partial \\phi}{\\partial t} = a \\phi - (\\Delta + 1)^2\\phi - \\phi^3\n",
    "\\end{equation}$\n",
    "\n",
    "We will simulate it on a $100 \\times 100$ grid, corresponding to $\\approx 10 $ wavelength, allowing for reasonable convergence times.\n",
    "\n",
    "\n",
    "### __Question 0__\n",
    "> Discretize the 2D laplacian $\\Delta = \\partial_{xx} + \\partial_{yy}$ with a Taylor development. Discretize the differential equation with a forward-Euler scheme.\n",
    "\n",
    "### __Question 1__\n",
    "> Integrate this equation until convergence and plot the pattern obtained. Repeat the simulation with several different initial conditions to observe the pattern variation.\n"
   ]
  },
  {
   "cell_type": "code",
   "execution_count": 2,
   "metadata": {},
   "outputs": [],
   "source": [
    "#If necessary : \n",
    "!pip install scikit-image"
   ]
  },
  {
   "cell_type": "code",
   "execution_count": 4,
   "metadata": {},
   "outputs": [],
   "source": [
    "import numpy as np\n",
    "import matplotlib.pyplot as plt\n",
    "from tqdm import tqdm \n",
    "\n",
    "%matplotlib inline\n",
    "\n",
    "def show_patterns(U, ax=None):\n",
    "    ax.imshow(U, cmap=plt.cm.copper,\n",
    "              interpolation='bilinear',\n",
    "              extent=[-1, 1, -1, 1])\n",
    "    ax.set_axis_off()\n",
    "    \n",
    "    \n",
    "#Simulation Parameters\n",
    "size = 100  # size of the 2D grid\n",
    "dx = 1 #.*(10**3) / size  # space step\n",
    "dt = .01  # time step\n",
    "T = dt*50000 #total duration of the simulation\n",
    "n = int(T / dt)  # number of iterations"
   ]
  },
  {
   "cell_type": "code",
   "execution_count": null,
   "metadata": {},
   "outputs": [],
   "source": [
    "fig, axes = plt.subplots(1, 5, figsize=(20, 4))\n",
    "step_plot = n // 5\n",
    "\n",
    "#Simulation Parameters\n",
    "U = np.random.rand(size, size)*(10**-3)\n",
    "a = 0.1\n",
    "\n",
    "\n",
    "#Simulation Loop \n",
    "for i in tqdm(range(n), total=n):\n",
    "    \n",
    "    # We update the variables.\n",
    "    U = ...\n",
    "\n",
    "    # We plot the state of the system at\n",
    "    # different times.\n",
    "    if i % step_plot == 0 and i < 5 * step_plot:\n",
    "        ax = axes.flat[i // step_plot]\n",
    "        show_patterns(U, ax=ax)\n",
    "        ax.set_title(f'$t={i * dt:.2f}$')"
   ]
  },
  {
   "cell_type": "markdown",
   "metadata": {},
   "source": [
    "# Part 2 - Stripes orientation with a morphogen gradient\n",
    "\n",
    "We will change the equation by making $a$ vary with x : \n",
    "\n",
    "$\n",
    "\\begin{equation} \n",
    "\\forall x \\in [0,100] : a(x) = -0.2 + \\dfrac{x}{500} \n",
    "\\end{equation}\n",
    "$\n",
    "\n",
    "### __Question 2__\n",
    "> Integrate this varying parameter a to the previous model. What do you observe ?"
   ]
  },
  {
   "cell_type": "code",
   "execution_count": 7,
   "metadata": {},
   "outputs": [
    {
     "data": {
      "text/plain": [
       "<matplotlib.colorbar.Colorbar at 0x7fa02827f460>"
      ]
     },
     "execution_count": 7,
     "metadata": {},
     "output_type": "execute_result"
    },
    {
     "data": {
      "image/png": "[encoded data removed]",
      "text/plain": [
       "<Figure size 288x216 with 2 Axes>"
      ]
     },
     "metadata": {
      "needs_background": "light"
     },
     "output_type": "display_data"
    }
   ],
   "source": [
    "###Simulation parameters\n",
    "baselinear = np.linspace(-0.1,0.1,size)\n",
    "linear_potential = np.zeros((size,size))\n",
    "for i in range(size):\n",
    "    linear_potential[i] = baselinear\n",
    "    \n",
    "a = linear_potential.copy()\n",
    "\n",
    "plt.figure(figsize=(4,3))\n",
    "plt.imshow(a)\n",
    "plt.title(\"Spatial gradient of a\")\n",
    "plt.colorbar()"
   ]
  },
  {
   "cell_type": "code",
   "execution_count": null,
   "metadata": {},
   "outputs": [],
   "source": [
    "fig, axes = plt.subplots(1, 5, figsize=(20, 4))\n",
    "U = np.random.rand(size, size)*(10**-3)\n",
    "\n",
    "###Simulation loop :\n",
    "for i in tqdm(range(n), total=n):\n",
    "    \n",
    "    # We update the variables.\n",
    "    U = ...\n",
    "\n",
    "    # We plot the state of the system at\n",
    "    # different times.\n",
    "    if i % step_plot == 0 and i < 5 * step_plot:\n",
    "        ax = axes.flat[i // step_plot]\n",
    "        show_patterns(U, ax=ax)\n",
    "        ax.set_title(f'$t={i * dt:.2f}$')"
   ]
  },
  {
   "cell_type": "markdown",
   "metadata": {},
   "source": [
    "# Part 3 - Stripes orientation with anisotropic diffusion\n",
    "\n",
    "We will this time change the equation by replacing the term $(\\Delta+1)^2 \\text{ by }(\\Delta+1)^2 - b \\partial_x^2$  : \n",
    "\n",
    "$\\begin{equation}\n",
    "\\dfrac{\\partial \\phi}{\\partial t} = a \\phi - (\\Delta + 1)^2\\phi + b\\partial_x^2\\phi - \\phi^3\n",
    "\\end{equation}$\n",
    "\n",
    "With $a=0.1$ and $b =0.1$.\n",
    "\n",
    "### __Question 3__\n",
    "> Integrate this varying anisotropic diffusion to the model. What do you observe ?"
   ]
  },
  {
   "cell_type": "code",
   "execution_count": null,
   "metadata": {},
   "outputs": [],
   "source": [
    "fig, axes = plt.subplots(1, 5, figsize=(20, 4))\n",
    "\n",
    "###Simulation parameters\n",
    "U = np.random.rand(size, size)*(10**-3)\n",
    "a = 0.1\n",
    "b = 0.1\n",
    "\n",
    "\n",
    "###Simulation loop :\n",
    "for i in tqdm(range(n), total=n):\n",
    "    \n",
    "    # We update the variables.\n",
    "    U= ...\n",
    "\n",
    "    # We plot the state of the system at\n",
    "    # different times.\n",
    "    if i % step_plot == 0 and i < 5 * step_plot:\n",
    "        ax = axes.flat[i // step_plot]\n",
    "        show_patterns(U, ax=ax)\n",
    "        ax.set_title(f'$t={i * dt:.2f}$')"
   ]
  },
  {
   "cell_type": "markdown",
   "metadata": {},
   "source": [
    "# Part 4 - Stripes orientation with anisotropic growth\n",
    "\n",
    "We will this time make a pattern that grows. At each timestep, we will make the pattern grow (before integrating the Swift-Hohenberg equation as previously) by distorting the spatial lengthscale $x$ : $\\phi(x,y,t+\\delta t) = \\phi(\\dfrac{x}{1+b\\delta t},y,t) $\n",
    "\n",
    "$\\begin{equation}\n",
    "\\dfrac{\\partial \\phi}{\\partial t} = a \\phi - (\\Delta + 1)^2\\phi - \\phi^3\n",
    "\\end{equation}$\n",
    "\n",
    "### __Question 4__\n",
    "> Integrate this growth to the model, with $b = 0.001$ and $b = 0.003$. What do you observe ?\n",
    "\n",
    "\n",
    "__Tip :__ Use the resize function of skimage to distort your Turing pattern."
   ]
  },
  {
   "cell_type": "code",
   "execution_count": null,
   "metadata": {},
   "outputs": [],
   "source": [
    "from skimage.transform import resize\n",
    "\n",
    "fig, axes = plt.subplots(1, 5, figsize=(20, 4))\n",
    "step_plot = n // 5\n",
    "\n",
    "def show_patterns_long(U, ax=None):\n",
    "    ax.imshow(U, cmap=plt.cm.copper,\n",
    "              interpolation='bilinear')\n",
    "    ax.set_axis_off()\n",
    "\n",
    "#Simulation Parameters\n",
    "U = np.random.rand(size, size)*(10**-3)\n",
    "a = 0.1\n",
    "b = 0.001\n",
    "\n",
    "\n",
    "#Simulation Loop \n",
    "current_size = size\n",
    "\n",
    "for i in tqdm(range(n), total=n):\n",
    "    \n",
    "    # We distort U : \n",
    "    dim_1 = ...\n",
    "    dim_2 = ...\n",
    "    U = resize(U, (dim_1,dim_2))\n",
    "    \n",
    "    # We update the variables\n",
    "    U = ...\n",
    "\n",
    "    # We plot the state of the system at\n",
    "    # different times.\n",
    "    if i % step_plot == 0 and i < 5 * step_plot:\n",
    "        ax = axes.flat[i // step_plot]\n",
    "        show_patterns_long(U, ax=ax)\n",
    "        ax.set_title(f'$t={i * dt:.2f}$')"
   ]
  },
  {
   "cell_type": "markdown",
   "metadata": {},
   "source": [
    "# Bonus : Stripes versus dots\n",
    "\n",
    "If we add a term with a quadratic term, stripes will progressively be replaced by dots : \n",
    "\n",
    "$\\begin{equation}\n",
    "\\dfrac{\\partial \\phi}{\\partial t} = a \\phi + \\delta \\phi^2 - (\\Delta + 1)^2\\phi - \\phi^3\n",
    "\\end{equation}$\n",
    "\n",
    "### __Question 5__\n",
    "> Integrate this quadratic term to the model, with $\\delta \\in [0.1,0.2,0.3]$. What do you observe ?\n",
    "\n",
    "\n"
   ]
  },
  {
   "cell_type": "code",
   "execution_count": null,
   "metadata": {},
   "outputs": [],
   "source": [
    "fig, axes = plt.subplots(1, 5, figsize=(20, 4))\n",
    "step_plot = n // 5\n",
    "\n",
    "\n",
    "###Simulation parameters\n",
    "U = np.random.rand(size, size)*(10**-3)\n",
    "a = 0.1\n",
    "delta = 0.3\n",
    "\n",
    "\n",
    "###Simulation loop :\n",
    "for i in tqdm(range(n), total=n):\n",
    "    \n",
    "    # We update the variables.\n",
    "    U = ...\n",
    "\n",
    "    # We plot the state of the system at\n",
    "    # different times.\n",
    "    if i % step_plot == 0 and i < 5 * step_plot:\n",
    "        ax = axes.flat[i // step_plot]\n",
    "        show_patterns(U, ax=ax)\n",
    "        ax.set_title(f'$t={i * dt:.2f}$')"
   ]
  },
  {
   "cell_type": "markdown",
   "metadata": {},
   "source": [
    "### Conclusion \n",
    "\n",
    "Though the microscopic factor responsible for the turing instability can vary widly, these mechanisms studied previously are very general and can be applied on many systems. For a nice example on developmental biology showing how birds evolved a special organ to vocalize, see :\n",
    "\n",
    "> E. Kingsley et al., *Identity and novelty in the avian syrinx*, PNAS, 2018.\n",
    "> https://doi.org/10.1073/pnas.1804586115\n",
    "\n",
    "\n",
    "![alt text](Images/Bird_patterning.png \"Title\")\n",
    "\n",
    "\n",
    "\n"
   ]
  }
 ],
 "metadata": {
  "kernelspec": {
   "display_name": "Python 3",
   "language": "python",
   "name": "python3"
  },
  "language_info": {
   "codemirror_mode": {
    "name": "ipython",
    "version": 3
   },
   "file_extension": ".py",
   "mimetype": "text/x-python",
   "name": "python",
   "nbconvert_exporter": "python",
   "pygments_lexer": "ipython3",
   "version": "3.8.3"
  }
 },
 "nbformat": 4,
 "nbformat_minor": 4
}
