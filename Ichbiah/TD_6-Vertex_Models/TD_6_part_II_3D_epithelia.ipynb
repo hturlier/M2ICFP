{
 "cells": [
  {
   "cell_type": "markdown",
   "metadata": {},
   "source": [
    "# Exercise session nº 6 - Part II\n",
    "---\n",
    "# Theory of epithelial sheet morphology in three dimensions\n",
    "\n",
    "__*Sacha Ichbiah, 07/03/22, ENS Paris*__\n",
    "\n",
    "This subject is extracted from : \n",
    "> Edouard Hannezo et al., *Theory of epithelial sheet morphology in three dimensions*, PNAS, 2013. \\\n",
    "> https://doi.org/10.1073/pnas.1312076111\n",
    "\n",
    "Morphogenesis during embryo development requires the coordination of mechanical forces to generate the macroscopic shapes of organs. To understand these processes, a full 3D description of the cells is needed. In this session, we will study a theoretical model, based on cell adhesion and actomyosin contractility, which describes the various shapes of epithelial cells and the bending and buckling of epithelial sheets, as well as the relative stability of cellular tubes and spheres. The morphologies observed in vivo can be understood as stable points of mechanical equations and the transitions between them are either continuous or discontinuous. From this model, will study the equilibrium configuration of the cells, and derive simple scaling laws, that can be verified experimentally.\n",
    "The authors also studied the buckling instability of epithelia, driven by a flattening of individual cell shapes.\n",
    "\n",
    "<img src=\"Images/3D_monolayer.png\" alt=\"drawing\" width=\"1000\"/>\n",
    "\n",
    "---"
   ]
  },
  {
   "cell_type": "markdown",
   "metadata": {},
   "source": [
    "# I - Morphologies of planar epithelial cells\n",
    "We model epithelial cells as hexagonal prisms of base length r and height h. We consider only cohesive sheets and, at first, we do not implement any constraint on the total area of the sheet. Considering all cells as identical, we write the force balance equation on a single cell, which we consider planar in this section. \n",
    "\n",
    "Although the tissue is an out-of-equilibrium system, it is convenient to write the mechanical equilibrium at steady state as the minimization of a work function, or effective energy $\\mathcal{F}$, where the nonequilibrium aspect is hidden in the tensions.  We define a cell as columnar when $\\dfrac{h}{r}>>1$, cuboidal when $\\dfrac{h}{r} \\approx 1$ and squamous when $\\dfrac{h}{r}<<1$.\n",
    "\n",
    "Epithelial cells display an apico-basal polarity: the adhesion with the substrate defines the basal surface, whereas a contractile actomyosin belt often forms on the upper, apical surface. \n",
    "We thus consider the following contributions to the effective energy: \n",
    "- a cell–substrate energy, proportional to the basal area, $\\gamma_b \\mathcal{A}_{basal}$.\n",
    "- a cell–cell lateral energy, proportional to the lateral area, $\\alpha_l \\mathcal{A}_{lat}$.\n",
    "- an energy associated to the tension of the apical actomyosin belt $\\Lambda_a$, proportional to the apical perimeter, $\\Lambda_a \\mathcal{P}_{ap}$.\n",
    "- the confinement energy of the cytoplasmic components (nucleus, intermediate filanements..) : $A\\left( \\frac{1}{h^2} + 2 \\frac{1}{r^2} \\right)$ (confinement of Gaussian polymers to a thickness h or a thickness r, depending on the regime).\n",
    "\n",
    "The lateral tension $\\alpha_l$ is the sum of several contributions of opposite signs : a positive contribution from contractile forces of the actomyosin lateral cortex, which tends to minimize the lateral surface, and a negative contribution from the adhesion with the neighboring cells, which tends to maximize the lateral surface. The tensions could also have contributions from external stresses. \n",
    "\n",
    "Thus the energy takes the following form : \n",
    "\n",
    "$\\mathcal{F} = \\gamma_b \\mathcal{A}_{basal} - \\alpha_l \\mathcal{A}_{lat} + \\Lambda_a \\mathcal{P}_{ap} + A\\left( \\frac{1}{h^2} + 2 \\frac{1}{r^2} \\right)$\n",
    "\n",
    "The volume of each cell $V_0$ is conserved, leading to a geometrical relation between h and r. \n",
    "\n"
   ]
  },
  {
   "cell_type": "markdown",
   "metadata": {},
   "source": [
    "#### **Question 0 :**\n",
    "> Determine this geometrical relation $r = r(h,V_0)$ and express $\\mathcal{A}_{basal}, \\mathcal{A}_{lat}, \\mathcal{P}_{ap}$ and eventually the energy $\\mathcal{F}$ as a function of r"
   ]
  },
  {
   "cell_type": "markdown",
   "metadata": {},
   "source": [
    "We can adimensionalize the previous energy by normalizing parameters, to obtain the following energy : \n",
    "    \n",
    "$\\mathcal{F} = \\gamma_b r^2 - \\dfrac{\\alpha_l}{r} + \\Lambda_a r + r^4 + \\dfrac{2}{r^2}$. \n",
    "\n",
    "The mechanical equilibrium is attained when $\\dfrac{\\partial\\mathcal{F}}{\\partial r} = 0$\n",
    "\n",
    "In our model, cell–cell lateral adhesion $\\alpha_l>0$ and apical belt tension favor tall columnar cells, whereas cell–cell contractile forces $\\alpha_l<0$ and cell–substrate adhesion $\\gamma_b <0$ favor squamous cells, in agreement with the experimental observations that squamous cells down-regulate E-cadherin and Fas2/3 (cell–cell adhesion), whereas columnar cells up-regulate E-cadherin expression and downregulate cell–matrix adhesion.\n",
    "\n"
   ]
  },
  {
   "cell_type": "markdown",
   "metadata": {},
   "source": [
    "#### **Question 1 :**\n",
    "> Compute the energy derivative. Then, from scaling arguments, describe the aspect ratios encountered in the following situations : \n",
    "> - $|\\gamma_b|>>1, \\gamma_b<0 $ \n",
    "> - $|\\alpha_l|>>1, \\alpha_l>0 $ \n",
    "> - $|\\alpha_l|>>1, \\alpha_l<0 $ \n",
    "> - $|\\Lambda_a|>>1, \\Lambda_a>0 $ "
   ]
  },
  {
   "cell_type": "markdown",
   "metadata": {},
   "source": [
    "#### **Question 2 :**\n",
    "> Plot the Energy and its derivative for $\\gamma_b = -15, \\alpha_l \\in \\{4,-9\\}$ and $\\Lambda_a \\in \\{0,25,50\\}$. Describe qualitatively the configurations encountered. "
   ]
  },
  {
   "cell_type": "markdown",
   "metadata": {},
   "source": [
    "If contractile forces dominate $\\alpha_l$, there is only one energy minimum to columnar aspect ratios. If lateral adhesion is large enough ($\\alpha_l$ negative), two minima, cells can be in a metastable state and “jump” from squamous to columnar aspect ratios.\n",
    "\n",
    "<img src=\"Images/Phase_diagram.png\" alt=\"drawing\" width=\"800\"/>"
   ]
  },
  {
   "cell_type": "markdown",
   "metadata": {},
   "source": [
    "# Epithelial Sheet Bending - The buckling instability\n",
    "\n",
    "we consider the confinement of an epithelium to an area different from its equilibrium value. If this occurs, cells can accommodate the decreased area by increasing their height. However, the area accessible to cells can also increase to its value dictated by mechanical equilibrium through an out-of-plane deformation of the entire sheet. This occurs if the energetic cost of bending the sheet is larger than the energetic cost of compression and is analogous to the Eulerian buckling of an elastic sheet under compression. For example, during Drosophila wing development, the columnar epithelium forms several folds. Moreover, local mutations affecting the actin belt cause the epithelium to collapse to a lower height and a bigger area and thus to form additional folds.\n",
    "\n",
    "Cell confinement and buckling. When a tissue is confined by external forces to an area lower than the area dictated by its mechanical equilibrium, it can either be homogeneously compressed or buckle to relieve the stress.\n",
    "\n",
    "<img src=\"Images/Buckling.png\" alt=\"drawing\" width=\"800\"/>\n",
    "\n",
    "We consider the case of columnar cells in the case $\\alpha_l >> \\Lambda_a >0 $ (Cell–cell adhesion is dominant). We thus have (cf Q.0) : $\\alpha_l = \\dfrac{4}{r_0}$. \n",
    "\n",
    "And each case, confining a cell to a new base length r < r0 costs an effective energy that depends of the geometrical properties of the tissue. We will compute the energy needed for $\\Delta r = r_0 - r << r_0$, in the case of confinement and buckling."
   ]
  },
  {
   "cell_type": "markdown",
   "metadata": {},
   "source": [
    "## Case I - Confinement\n",
    "\n",
    "#### **Question 3 :**\n",
    "> Compute the energy cost $\\mathcal{F}_{confinement}$ of the confinement to a length $r$ (right case on the sketch).\n"
   ]
  },
  {
   "cell_type": "markdown",
   "metadata": {},
   "source": [
    "## Case II : Buckling\n",
    "\n",
    "### Geometrical relationships\n",
    "\n",
    "In a buckled sheet, parameterized by the definition $l(z) = u \\cos(qz)$, cells are forced to adopt a lampshade shape that has an energetic cost, but the amplitude $u$ and inverse wavelength $q$ are such as to accommodate cells to their equilibrium wavelength. We have thus the following relationship : \n",
    "\n",
    "$r_0 = r\\left(1 + \\frac{u^2q^2}{2} \\right)$ for $uq<<r_0$.\n",
    " \n",
    "#### **Question 4 :**\n",
    "> Express u from this relationship"
   ]
  },
  {
   "cell_type": "markdown",
   "metadata": {},
   "source": [
    "#### **Question 5 :**\n",
    "> Compute the mean curvature of the sheet  $C_{sheet}$ from the expression of $l(z)$.\n",
    "\n",
    "We define $\\delta r$ such that the elongated base length of a cell is $r_0 +\\delta r$ and the shortened base length of a cell is $r_0 -\\delta r$. We assume that the spontaneous curvature of a cell  $C_{cell}$ is equal to the mean curvature of a sheet  $C_{sheet}$. The cell curvature $C_{cell}$ equals $r_0 \\delta r$.\n",
    "\n",
    "#### **Question 6 :**\n",
    "> Express $\\delta r$ in terms of $q,\\alpha \\text{ and } \\Delta r$.\n"
   ]
  },
  {
   "cell_type": "markdown",
   "metadata": {},
   "source": [
    "\n",
    "### Energetic cost\n",
    "\n",
    "A curved epithelium has two radii $r_1$ and $r_2$ instead of one, and the energy writes : \n",
    "\n",
    "$\\mathcal{F}_s = -\\dfrac{\\alpha_l}{2}\\dfrac{r_1+r_2}{r_1^2 + r_2^2 + r_1r_2} + \\dfrac{1}{9}(r_1^2 + r_2^2 + r_1r_2)^2 + \\dfrac{2}{r_1r_2} + \\gamma_b r_1^2 + \\Lambda_a r_2$.\n",
    "\n",
    "As we are in the columnar setting $\\alpha_l >> \\Lambda_a$, we can write the energy : \n",
    "\n",
    "$\\mathcal{F}_s(r_1,r_2) =  -\\dfrac{\\alpha_l}{2}\\dfrac{r_1+r_2}{r_1^2 + r_2^2 + r_1r_2} + \\dfrac{2}{r_1r_2}$\n",
    "\n",
    "#### **Question 7 :**\n",
    "> Compute the buckling energetic cost $\\mathcal{F}_{buckling}(\\Delta r)$."
   ]
  },
  {
   "cell_type": "markdown",
   "metadata": {},
   "source": [
    "Therefore, the confinement energy depends quadratically on the confinement Δr, whereas the effective buckling energy is linear in Δr. This means that small confinements are always accommodated by a uniform squeezing of the sheet, until a critical threshold where the sheet buckles. Not surprisingly, large wavelengths (i.e $q \\to 0$) are favored and reduce the buckling energy, because less bending is required of each individual cell. The preferred wavelength is then the length of the sheet L, with a critical confinement threshold\n",
    "\n",
    "$\\Delta r_c \\propto \\dfrac{\\alpha_l^3}{L^2}$\n",
    "\n",
    "The threshold increases with $\\alpha_l$, which means that cell–cell adhesion increases the bending rigidity of a sheet."
   ]
  },
  {
   "cell_type": "markdown",
   "metadata": {},
   "source": [
    "# Conclusion \n",
    "\n",
    "Taking into account the 3-dimensionnal geometry of the cells allows for a wide range of new behaviour in epithelial sheets, where out-of-plane effects appears. In recent years, experimentalists have demonstrated curling and buckling behaviours using in-vitro experiments, that can also be observed in the embryonic development, and seems to be key to create complex shapes from a single cell. The control and regulation of such mechanisms is an active topic of research, linking biology and mechanical modeling.\n",
    "\n",
    "<img src=\"Images/curling.png\" alt=\"drawing\" width=\"700\"/>\n",
    "\n",
    "_Additional references :_\n",
    "> Fouchard et al., *Curling of epithelial monolayers reveals coupling between active bending and tissue tension*, PNAS, 2020. https://doi.org/10.1073/pnas.1917838117\n",
    "\n"
   ]
  }
 ],
 "metadata": {
  "kernelspec": {
   "display_name": "Python 3",
   "language": "python",
   "name": "python3"
  },
  "language_info": {
   "codemirror_mode": {
    "name": "ipython",
    "version": 3
   },
   "file_extension": ".py",
   "mimetype": "text/x-python",
   "name": "python",
   "nbconvert_exporter": "python",
   "pygments_lexer": "ipython3",
   "version": "3.8.3"
  }
 },
 "nbformat": 4,
 "nbformat_minor": 4
}
