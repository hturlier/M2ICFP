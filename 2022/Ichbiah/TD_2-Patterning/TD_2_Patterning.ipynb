{
 "cells": [
  {
   "cell_type": "markdown",
   "metadata": {},
   "source": [
    "# Exercise session nº 2\n",
    "---\n",
    "# Sonic Hedgehog Signaling Gradient Readout in the Vertebrate Neural Tube\n",
    "\n",
    "__*Sacha Ichbiah, 31/01/22, ENS Paris*__\n",
    "\n",
    "This subject is extracted from : \n",
    "> N. Balaskas et Al., *Gene Regulatory Logic for Reading the Sonic Hedgehog Signaling Gradient in the Vertebrate Neural Tube*, Cell, 2012.\n",
    "> https://doi.org/10.1016/j.cell.2011.10.047\n",
    "\n",
    "Secreted signals, known as morphogens, provide the positional information that organizes gene expression and cellular differentiation in many developing tissues. Several morphogens gradients can be observed on biological systems during development. However, the way the cells integrate the signal is often complicated and organism dependent. A simple model introduced by __Lewis Wolpert__, called the __French flag model__, postulates that the different cell fates adopted is the result of the crossing of thresholds of morphogens concentrations. \n",
    "\n",
    "<img src=\"Images/French_flag_model.png\" alt=\"drawing\" width=\"500\"/>\n",
    "\n",
    "In the vertebrate neural tube, Sonic Hedgehog (Shh) acts as a morphogen to control the pattern of neuronal subtype specification. However, it was not clear how Shh gradient were interpreted by the cell to induce different cell fates. This article shows that a spatially and temporally changing gradient of Shh signaling is interpreted by the regulatory logic of a downstream transcriptional network. The design of the network, which links three transcription factors to Shh signaling, is responsible for differential spatial and temporal gene expression. In addition, the network renders cells insensitive to fluctuations in signaling and confers hysteresis - memory of the signal. The morphogen interpretation is an emergent property of the architecture of a transcriptional network that provides robustness and reliability to tissue patterning.\n",
    "\n",
    "![alt text](Images/Graphical_abstract.jpeg \"Title\")\n",
    "\n",
    "During this session, we will model the gene regulation network using differential equations and observe the behaviour induced by the architecture of this network. \n",
    "\n",
    "---"
   ]
  },
  {
   "cell_type": "markdown",
   "metadata": {},
   "source": [
    "## I - Temporal evolution of the GRN : \n",
    "![alt text](Images/GRN.png \"Title\")\n",
    "\n",
    "The relations between these proteins can be modeled as such : \n",
    "\n",
    "$\n",
    "\\begin{align}\n",
    "\\frac{dP}{dt} &=\\frac{\\alpha}{1 + (\\frac{N}{N_{critP}})^{h_1} +  (\\frac{O}{O_{critP}})^{h_2}  } - k_1P \\newline\n",
    "\\frac{dO}{dt} &=\\frac{\\beta G}{1 + G} \\frac{1}{1 + (\\frac{N}{N_{critO}})^{h_3}  } - k_2O \\newline\n",
    "\\frac{dN}{dt} &=\\frac{\\gamma G}{1 + G} \\frac{1}{1 + (\\frac{O}{O_{critN}})^{h_4} + (\\frac{P}{P_{critN}})^{h_5}  } - k_3N \\newline\n",
    "\\end{align}\n",
    "$\n",
    "\n",
    "#### **Question 1 :**\n",
    "> Discretize these differential equations with a forward euler-scheme\n",
    "\n",
    "#### **Question 2 :**\n",
    "> Integrate these equations for the given parameters for $t \\in [0,50]$, starting with $P(0)=3, O(0)=N(0)=0$. Try with G $\\in [1,2,3,4,5]$ What do you observe ? "
   ]
  },
  {
   "cell_type": "code",
   "execution_count": 1,
   "metadata": {},
   "outputs": [],
   "source": [
    "import numpy as np \n",
    "import matplotlib.pyplot as plt\n",
    "\n",
    "alpha = 3 \n",
    "beta = 5\n",
    "gamma = 5\n",
    "h1 = 6\n",
    "h2 = 2\n",
    "h3 = 5\n",
    "h4 = 1\n",
    "h5 = 1\n",
    "k1 = 1\n",
    "k2 = 1\n",
    "k3 = 1\n",
    "OcritP = 1\n",
    "NcritP = 1\n",
    "NcritO = 1\n",
    "PcritN = 1\n",
    "\n",
    "tfinal = 50\n",
    "npoints = 1000\n",
    "timepoints = np.linspace(0,tfinal,npoints)"
   ]
  },
  {
   "cell_type": "markdown",
   "metadata": {},
   "source": [
    "## II - Phase diagram of the GRN : \n",
    "#### **Question 3 :**\n",
    "> Plot the phase diagram of the steady states values of P,O and D for G $\\in G_{vals}$. Then plot the phase diagram for $\\alpha = 0, \\beta=0 \\text{ and } (\\alpha,\\beta)=0$"
   ]
  },
  {
   "cell_type": "code",
   "execution_count": 6,
   "metadata": {},
   "outputs": [],
   "source": [
    "n_gvals = 100\n",
    "Gvals = np.linspace(0,5,n_gvals)"
   ]
  },
  {
   "cell_type": "markdown",
   "metadata": {},
   "source": [
    "## III - Noise buffering by the GRN : \n",
    "#### **Question 4 :**\n",
    "> Compare the temporal evolution with $G = 5$ to the one with $G \\mapsto \\mathcal{N}(5,1)$, a normal law of mean 5 and of variance 1.  What are the effects of the noise on the proteins concentrations ? "
   ]
  },
  {
   "cell_type": "code",
   "execution_count": 1,
   "metadata": {},
   "outputs": [],
   "source": [
    "alpha = 3 \n",
    "beta = 5\n",
    "gamma = 5\n",
    "h1 = 6\n",
    "h2 = 2\n",
    "h3 = 5\n",
    "h4 = 1\n",
    "h5 = 1\n",
    "k1 = 1\n",
    "k2 = 1\n",
    "k3 = 1\n",
    "OcritP = 1\n",
    "NcritP = 1\n",
    "NcritO = 1\n",
    "PcritN = 1\n",
    "G_mean = 5\n",
    "G_std = 1"
   ]
  },
  {
   "cell_type": "markdown",
   "metadata": {},
   "source": [
    "## IV - Hysteresis\n",
    "#### **Question 5 :**\n",
    "> From the steady state at G = 0, make G evolve slowly such that the steady state is reached at each variation of G. Then when G = 5, make G decrease back to zero. what do you observe ? "
   ]
  },
  {
   "cell_type": "markdown",
   "metadata": {},
   "source": [
    "# Conclusion \n",
    "\n",
    "The proposed model provides evidence that Shh morphogen interpretation in the neural tube is a property of the downstream GNN. Cells transform the extracellular gradient of Shh into a dynamic profile of intracellular Gli activity that engages a transcriptional circuit, the regulatory logic of which is responsible for the generation of the characteristic temporal and spatial patterns of gene expression. This mechanism offers a powerful strategy to achieve the characteristic precision and robustness of morphogen-mediated pattern formation.\n",
    "\n",
    "In the following of the article, the authors introduce another model, extending the preceding one by taking into account a forth protein, Gli. It allows them to reproduce the behaviours observed in their in-vivo experiments. On top of explaining the variable spatial patterns of gene expression, the networks confers both robustness and hysteresis of protein production. The insensitivity of the circuit to transient changes in the level of signaling provides a way to achieve reliable patterning in spite of the inherent noisiness of development. The study highlights the information-processing power of transcriptional networks and the simplicity and adaptability of this mechanism suggest that it is likely to be relevant for the control of patterning of tissues other than the neural tube.\n",
    "\n",
    "The gene regulatory networks encountered in biological systems are often too complicated to construct them heuristically. Eric H. Davidson pionnered the use of bioinformatical tools to automatically infer gene regulation networks from genomic and transcriptomic data. It gives an engineer view of the genes relationships during developments, showing the complexity of the mechanisms involved.\n",
    "\n",
    "<img src=\"Images/GRN_davidson.png\" alt=\"drawing\" width=\"500\"/>\n",
    "\n",
    "> Gene regulation network for endomesoderm specification made with biotapestry : http://www.biotapestry.org. Don't try to understand this graph !\n",
    "\n",
    "_Additional references :_\n",
    "> Michael Akam, *Making stripes ineleganty*, Nature, 1989. https://doi.org/10.1038/341282a0\n",
    "\n",
    "> Eric H. Davidson, *Emerging properties of animal gene regulatory networks*, Nature, 2010. https://doi.org/10.1038/nature09645\n",
    "\n",
    "> Eric H. Davidson, Samuel Levine *Properties of developmental gene regulatory networks*, PNAS, 2008 https://doi.org/10.1073/pnas.0806007105\n",
    "\n",
    "> Lewis Wolpert, *Positional information and the spatial pattern of cellular differentiation*, Journal of Theoretical Biology, 1969. https://doi.org/10.1016/S0022-5193(69)80016-0"
   ]
  }
 ],
 "metadata": {
  "kernelspec": {
   "display_name": "Python 3",
   "language": "python",
   "name": "python3"
  },
  "language_info": {
   "codemirror_mode": {
    "name": "ipython",
    "version": 3
   },
   "file_extension": ".py",
   "mimetype": "text/x-python",
   "name": "python",
   "nbconvert_exporter": "python",
   "pygments_lexer": "ipython3",
   "version": "3.8.3"
  }
 },
 "nbformat": 4,
 "nbformat_minor": 4
}
